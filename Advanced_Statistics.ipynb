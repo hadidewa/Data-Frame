{
 "cells": [
  {
   "cell_type": "code",
   "execution_count": 1,
   "id": "08a7fb53",
   "metadata": {},
   "outputs": [],
   "source": [
    "import pandas as pd\n",
    "import matplotlib.pyplot as plt\n",
    "import seaborn as sns\n",
    "from scipy.stats import ttest_rel\n",
    "from scipy.stats import ttest_ind"
   ]
  },
  {
   "cell_type": "code",
   "execution_count": 2,
   "id": "bfcdfdad",
   "metadata": {},
   "outputs": [
    {
     "data": {
      "text/html": [
       "<div>\n",
       "<style scoped>\n",
       "    .dataframe tbody tr th:only-of-type {\n",
       "        vertical-align: middle;\n",
       "    }\n",
       "\n",
       "    .dataframe tbody tr th {\n",
       "        vertical-align: top;\n",
       "    }\n",
       "\n",
       "    .dataframe thead th {\n",
       "        text-align: right;\n",
       "    }\n",
       "</style>\n",
       "<table border=\"1\" class=\"dataframe\">\n",
       "  <thead>\n",
       "    <tr style=\"text-align: right;\">\n",
       "      <th></th>\n",
       "      <th>custid</th>\n",
       "      <th>sex</th>\n",
       "      <th>AqChannel</th>\n",
       "      <th>region</th>\n",
       "      <th>Marital_status</th>\n",
       "      <th>segment</th>\n",
       "      <th>pre_usage</th>\n",
       "      <th>Post_usage_1month</th>\n",
       "      <th>Latest_mon_usage</th>\n",
       "      <th>post_usage_2ndmonth</th>\n",
       "    </tr>\n",
       "  </thead>\n",
       "  <tbody>\n",
       "    <tr>\n",
       "      <th>0</th>\n",
       "      <td>70</td>\n",
       "      <td>0</td>\n",
       "      <td>4</td>\n",
       "      <td>1</td>\n",
       "      <td>1</td>\n",
       "      <td>1</td>\n",
       "      <td>57</td>\n",
       "      <td>52</td>\n",
       "      <td>49.2</td>\n",
       "      <td>57.2</td>\n",
       "    </tr>\n",
       "    <tr>\n",
       "      <th>1</th>\n",
       "      <td>121</td>\n",
       "      <td>1</td>\n",
       "      <td>4</td>\n",
       "      <td>2</td>\n",
       "      <td>1</td>\n",
       "      <td>3</td>\n",
       "      <td>68</td>\n",
       "      <td>59</td>\n",
       "      <td>63.6</td>\n",
       "      <td>64.9</td>\n",
       "    </tr>\n",
       "    <tr>\n",
       "      <th>2</th>\n",
       "      <td>86</td>\n",
       "      <td>0</td>\n",
       "      <td>4</td>\n",
       "      <td>3</td>\n",
       "      <td>1</td>\n",
       "      <td>1</td>\n",
       "      <td>44</td>\n",
       "      <td>33</td>\n",
       "      <td>64.8</td>\n",
       "      <td>36.3</td>\n",
       "    </tr>\n",
       "    <tr>\n",
       "      <th>3</th>\n",
       "      <td>141</td>\n",
       "      <td>0</td>\n",
       "      <td>4</td>\n",
       "      <td>3</td>\n",
       "      <td>1</td>\n",
       "      <td>3</td>\n",
       "      <td>63</td>\n",
       "      <td>44</td>\n",
       "      <td>56.4</td>\n",
       "      <td>48.4</td>\n",
       "    </tr>\n",
       "    <tr>\n",
       "      <th>4</th>\n",
       "      <td>172</td>\n",
       "      <td>0</td>\n",
       "      <td>4</td>\n",
       "      <td>2</td>\n",
       "      <td>1</td>\n",
       "      <td>2</td>\n",
       "      <td>47</td>\n",
       "      <td>52</td>\n",
       "      <td>68.4</td>\n",
       "      <td>57.2</td>\n",
       "    </tr>\n",
       "    <tr>\n",
       "      <th>...</th>\n",
       "      <td>...</td>\n",
       "      <td>...</td>\n",
       "      <td>...</td>\n",
       "      <td>...</td>\n",
       "      <td>...</td>\n",
       "      <td>...</td>\n",
       "      <td>...</td>\n",
       "      <td>...</td>\n",
       "      <td>...</td>\n",
       "      <td>...</td>\n",
       "    </tr>\n",
       "    <tr>\n",
       "      <th>195</th>\n",
       "      <td>31</td>\n",
       "      <td>1</td>\n",
       "      <td>2</td>\n",
       "      <td>2</td>\n",
       "      <td>2</td>\n",
       "      <td>1</td>\n",
       "      <td>55</td>\n",
       "      <td>59</td>\n",
       "      <td>62.4</td>\n",
       "      <td>64.9</td>\n",
       "    </tr>\n",
       "    <tr>\n",
       "      <th>196</th>\n",
       "      <td>145</td>\n",
       "      <td>1</td>\n",
       "      <td>4</td>\n",
       "      <td>2</td>\n",
       "      <td>1</td>\n",
       "      <td>3</td>\n",
       "      <td>42</td>\n",
       "      <td>46</td>\n",
       "      <td>45.6</td>\n",
       "      <td>50.6</td>\n",
       "    </tr>\n",
       "    <tr>\n",
       "      <th>197</th>\n",
       "      <td>187</td>\n",
       "      <td>1</td>\n",
       "      <td>4</td>\n",
       "      <td>2</td>\n",
       "      <td>2</td>\n",
       "      <td>1</td>\n",
       "      <td>57</td>\n",
       "      <td>41</td>\n",
       "      <td>68.4</td>\n",
       "      <td>45.1</td>\n",
       "    </tr>\n",
       "    <tr>\n",
       "      <th>198</th>\n",
       "      <td>118</td>\n",
       "      <td>1</td>\n",
       "      <td>4</td>\n",
       "      <td>2</td>\n",
       "      <td>1</td>\n",
       "      <td>1</td>\n",
       "      <td>55</td>\n",
       "      <td>62</td>\n",
       "      <td>69.6</td>\n",
       "      <td>68.2</td>\n",
       "    </tr>\n",
       "    <tr>\n",
       "      <th>199</th>\n",
       "      <td>137</td>\n",
       "      <td>1</td>\n",
       "      <td>4</td>\n",
       "      <td>3</td>\n",
       "      <td>1</td>\n",
       "      <td>2</td>\n",
       "      <td>63</td>\n",
       "      <td>65</td>\n",
       "      <td>78.0</td>\n",
       "      <td>71.5</td>\n",
       "    </tr>\n",
       "  </tbody>\n",
       "</table>\n",
       "<p>200 rows × 10 columns</p>\n",
       "</div>"
      ],
      "text/plain": [
       "     custid  sex  AqChannel  region  Marital_status  segment  pre_usage  \\\n",
       "0        70    0          4       1               1        1         57   \n",
       "1       121    1          4       2               1        3         68   \n",
       "2        86    0          4       3               1        1         44   \n",
       "3       141    0          4       3               1        3         63   \n",
       "4       172    0          4       2               1        2         47   \n",
       "..      ...  ...        ...     ...             ...      ...        ...   \n",
       "195      31    1          2       2               2        1         55   \n",
       "196     145    1          4       2               1        3         42   \n",
       "197     187    1          4       2               2        1         57   \n",
       "198     118    1          4       2               1        1         55   \n",
       "199     137    1          4       3               1        2         63   \n",
       "\n",
       "     Post_usage_1month  Latest_mon_usage  post_usage_2ndmonth  \n",
       "0                   52              49.2                 57.2  \n",
       "1                   59              63.6                 64.9  \n",
       "2                   33              64.8                 36.3  \n",
       "3                   44              56.4                 48.4  \n",
       "4                   52              68.4                 57.2  \n",
       "..                 ...               ...                  ...  \n",
       "195                 59              62.4                 64.9  \n",
       "196                 46              45.6                 50.6  \n",
       "197                 41              68.4                 45.1  \n",
       "198                 62              69.6                 68.2  \n",
       "199                 65              78.0                 71.5  \n",
       "\n",
       "[200 rows x 10 columns]"
      ]
     },
     "execution_count": 2,
     "metadata": {},
     "output_type": "execute_result"
    }
   ],
   "source": [
    "df = pd.read_csv('cust_seg.csv')\n",
    "df"
   ]
  },
  {
   "cell_type": "markdown",
   "id": "ff10a77f",
   "metadata": {},
   "source": [
    "## No 1a"
   ]
  },
  {
   "cell_type": "markdown",
   "metadata": {},
   "source": [
    "Jalankan fungsi-fungsi dasar: info(), describe()."
   ]
  },
  {
   "cell_type": "code",
   "execution_count": 3,
   "id": "7793ab5d",
   "metadata": {},
   "outputs": [
    {
     "name": "stdout",
     "output_type": "stream",
     "text": [
      "<class 'pandas.core.frame.DataFrame'>\n",
      "RangeIndex: 200 entries, 0 to 199\n",
      "Data columns (total 10 columns):\n",
      " #   Column               Non-Null Count  Dtype  \n",
      "---  ------               --------------  -----  \n",
      " 0   custid               200 non-null    int64  \n",
      " 1   sex                  200 non-null    int64  \n",
      " 2   AqChannel            200 non-null    int64  \n",
      " 3   region               200 non-null    int64  \n",
      " 4   Marital_status       200 non-null    int64  \n",
      " 5   segment              200 non-null    int64  \n",
      " 6   pre_usage            200 non-null    int64  \n",
      " 7   Post_usage_1month    200 non-null    int64  \n",
      " 8   Latest_mon_usage     200 non-null    float64\n",
      " 9   post_usage_2ndmonth  200 non-null    float64\n",
      "dtypes: float64(2), int64(8)\n",
      "memory usage: 15.8 KB\n"
     ]
    }
   ],
   "source": [
    "df.info()"
   ]
  },
  {
   "cell_type": "code",
   "execution_count": 4,
   "id": "45e82712",
   "metadata": {},
   "outputs": [
    {
     "data": {
      "text/html": [
       "<div>\n",
       "<style scoped>\n",
       "    .dataframe tbody tr th:only-of-type {\n",
       "        vertical-align: middle;\n",
       "    }\n",
       "\n",
       "    .dataframe tbody tr th {\n",
       "        vertical-align: top;\n",
       "    }\n",
       "\n",
       "    .dataframe thead th {\n",
       "        text-align: right;\n",
       "    }\n",
       "</style>\n",
       "<table border=\"1\" class=\"dataframe\">\n",
       "  <thead>\n",
       "    <tr style=\"text-align: right;\">\n",
       "      <th></th>\n",
       "      <th>custid</th>\n",
       "      <th>sex</th>\n",
       "      <th>AqChannel</th>\n",
       "      <th>region</th>\n",
       "      <th>Marital_status</th>\n",
       "      <th>segment</th>\n",
       "      <th>pre_usage</th>\n",
       "      <th>Post_usage_1month</th>\n",
       "      <th>Latest_mon_usage</th>\n",
       "      <th>post_usage_2ndmonth</th>\n",
       "    </tr>\n",
       "  </thead>\n",
       "  <tbody>\n",
       "    <tr>\n",
       "      <th>count</th>\n",
       "      <td>200.000000</td>\n",
       "      <td>200.00000</td>\n",
       "      <td>200.000000</td>\n",
       "      <td>200.000000</td>\n",
       "      <td>200.000000</td>\n",
       "      <td>200.000000</td>\n",
       "      <td>200.000000</td>\n",
       "      <td>200.000000</td>\n",
       "      <td>200.000000</td>\n",
       "      <td>200.000000</td>\n",
       "    </tr>\n",
       "    <tr>\n",
       "      <th>mean</th>\n",
       "      <td>100.500000</td>\n",
       "      <td>0.54500</td>\n",
       "      <td>3.430000</td>\n",
       "      <td>2.055000</td>\n",
       "      <td>1.160000</td>\n",
       "      <td>2.025000</td>\n",
       "      <td>52.230000</td>\n",
       "      <td>52.775000</td>\n",
       "      <td>63.174000</td>\n",
       "      <td>58.052500</td>\n",
       "    </tr>\n",
       "    <tr>\n",
       "      <th>std</th>\n",
       "      <td>57.879185</td>\n",
       "      <td>0.49922</td>\n",
       "      <td>1.039472</td>\n",
       "      <td>0.724291</td>\n",
       "      <td>0.367526</td>\n",
       "      <td>0.690477</td>\n",
       "      <td>10.252937</td>\n",
       "      <td>9.478586</td>\n",
       "      <td>11.242137</td>\n",
       "      <td>10.426445</td>\n",
       "    </tr>\n",
       "    <tr>\n",
       "      <th>min</th>\n",
       "      <td>1.000000</td>\n",
       "      <td>0.00000</td>\n",
       "      <td>1.000000</td>\n",
       "      <td>1.000000</td>\n",
       "      <td>1.000000</td>\n",
       "      <td>1.000000</td>\n",
       "      <td>28.000000</td>\n",
       "      <td>31.000000</td>\n",
       "      <td>39.600000</td>\n",
       "      <td>34.100000</td>\n",
       "    </tr>\n",
       "    <tr>\n",
       "      <th>25%</th>\n",
       "      <td>50.750000</td>\n",
       "      <td>0.00000</td>\n",
       "      <td>3.000000</td>\n",
       "      <td>2.000000</td>\n",
       "      <td>1.000000</td>\n",
       "      <td>2.000000</td>\n",
       "      <td>44.000000</td>\n",
       "      <td>45.750000</td>\n",
       "      <td>54.000000</td>\n",
       "      <td>50.325000</td>\n",
       "    </tr>\n",
       "    <tr>\n",
       "      <th>50%</th>\n",
       "      <td>100.500000</td>\n",
       "      <td>1.00000</td>\n",
       "      <td>4.000000</td>\n",
       "      <td>2.000000</td>\n",
       "      <td>1.000000</td>\n",
       "      <td>2.000000</td>\n",
       "      <td>50.000000</td>\n",
       "      <td>54.000000</td>\n",
       "      <td>62.400000</td>\n",
       "      <td>59.400000</td>\n",
       "    </tr>\n",
       "    <tr>\n",
       "      <th>75%</th>\n",
       "      <td>150.250000</td>\n",
       "      <td>1.00000</td>\n",
       "      <td>4.000000</td>\n",
       "      <td>3.000000</td>\n",
       "      <td>1.000000</td>\n",
       "      <td>2.250000</td>\n",
       "      <td>60.000000</td>\n",
       "      <td>60.000000</td>\n",
       "      <td>70.800000</td>\n",
       "      <td>66.000000</td>\n",
       "    </tr>\n",
       "    <tr>\n",
       "      <th>max</th>\n",
       "      <td>200.000000</td>\n",
       "      <td>1.00000</td>\n",
       "      <td>4.000000</td>\n",
       "      <td>3.000000</td>\n",
       "      <td>2.000000</td>\n",
       "      <td>3.000000</td>\n",
       "      <td>76.000000</td>\n",
       "      <td>67.000000</td>\n",
       "      <td>90.000000</td>\n",
       "      <td>73.700000</td>\n",
       "    </tr>\n",
       "  </tbody>\n",
       "</table>\n",
       "</div>"
      ],
      "text/plain": [
       "           custid        sex   AqChannel      region  Marital_status  \\\n",
       "count  200.000000  200.00000  200.000000  200.000000      200.000000   \n",
       "mean   100.500000    0.54500    3.430000    2.055000        1.160000   \n",
       "std     57.879185    0.49922    1.039472    0.724291        0.367526   \n",
       "min      1.000000    0.00000    1.000000    1.000000        1.000000   \n",
       "25%     50.750000    0.00000    3.000000    2.000000        1.000000   \n",
       "50%    100.500000    1.00000    4.000000    2.000000        1.000000   \n",
       "75%    150.250000    1.00000    4.000000    3.000000        1.000000   \n",
       "max    200.000000    1.00000    4.000000    3.000000        2.000000   \n",
       "\n",
       "          segment   pre_usage  Post_usage_1month  Latest_mon_usage  \\\n",
       "count  200.000000  200.000000         200.000000        200.000000   \n",
       "mean     2.025000   52.230000          52.775000         63.174000   \n",
       "std      0.690477   10.252937           9.478586         11.242137   \n",
       "min      1.000000   28.000000          31.000000         39.600000   \n",
       "25%      2.000000   44.000000          45.750000         54.000000   \n",
       "50%      2.000000   50.000000          54.000000         62.400000   \n",
       "75%      2.250000   60.000000          60.000000         70.800000   \n",
       "max      3.000000   76.000000          67.000000         90.000000   \n",
       "\n",
       "       post_usage_2ndmonth  \n",
       "count           200.000000  \n",
       "mean             58.052500  \n",
       "std              10.426445  \n",
       "min              34.100000  \n",
       "25%              50.325000  \n",
       "50%              59.400000  \n",
       "75%              66.000000  \n",
       "max              73.700000  "
      ]
     },
     "execution_count": 4,
     "metadata": {},
     "output_type": "execute_result"
    }
   ],
   "source": [
    "df.describe()"
   ]
  },
  {
   "cell_type": "markdown",
   "metadata": {},
   "source": [
    "## No 1b"
   ]
  },
  {
   "cell_type": "markdown",
   "metadata": {},
   "source": [
    " Buat histogram untuk melihat persebaran data beberapa variable yang menurut Anda\n",
    "penting.\n"
   ]
  },
  {
   "cell_type": "code",
   "execution_count": 5,
   "id": "33036a2c",
   "metadata": {},
   "outputs": [
    {
     "data": {
      "image/png": "[encoded data removed]",
      "text/plain": [
       "<Figure size 640x480 with 1 Axes>"
      ]
     },
     "metadata": {},
     "output_type": "display_data"
    }
   ],
   "source": [
    "sns.histplot(df, x=\"pre_usage\")\n",
    "plt.show()"
   ]
  },
  {
   "cell_type": "code",
   "execution_count": 20,
   "id": "76785a85",
   "metadata": {},
   "outputs": [
    {
     "data": {
      "image/png": "[encoded data removed]",
      "text/plain": [
       "<Figure size 640x480 with 1 Axes>"
      ]
     },
     "metadata": {},
     "output_type": "display_data"
    }
   ],
   "source": [
    "sns.histplot(df, x=\"Post_usage_1month\")\n",
    "plt.show()"
   ]
  },
  {
   "cell_type": "markdown",
   "id": "f1fecbaa",
   "metadata": {},
   "source": [
    "## No 2a"
   ]
  },
  {
   "cell_type": "markdown",
   "id": "4c7b244a",
   "metadata": {},
   "source": [
    "H0 : Tidak ada perbedaan penggunaan kartu kredit sebelum kampanye dengan 1 bulan setelah kampanye <br/>\n",
    "H1 : Ada perbedaan penggunaan kartu kredit sebelum kampanye dengan 1 bulan setelah kampanye"
   ]
  },
  {
   "cell_type": "code",
   "execution_count": 21,
   "id": "d8405488",
   "metadata": {},
   "outputs": [],
   "source": [
    "t_value, p_value = ttest_rel(df['pre_usage'], df['Post_usage_1month'])"
   ]
  },
  {
   "cell_type": "code",
   "execution_count": 7,
   "id": "11916610",
   "metadata": {},
   "outputs": [
    {
     "data": {
      "text/plain": [
       "0.3868186820914985"
      ]
     },
     "execution_count": 7,
     "metadata": {},
     "output_type": "execute_result"
    }
   ],
   "source": [
    "p_value"
   ]
  },
  {
   "cell_type": "code",
   "execution_count": 9,
   "id": "753dd268",
   "metadata": {},
   "outputs": [
    {
     "name": "stdout",
     "output_type": "stream",
     "text": [
      "H0 diterima\n"
     ]
    }
   ],
   "source": [
    "if p_value < 0.05:\n",
    "    print('H0 ditolak')\n",
    "else:\n",
    "    print('H0 diterima')"
   ]
  },
  {
   "cell_type": "markdown",
   "id": "d3ed3772",
   "metadata": {},
   "source": [
    "Kesimpulan: <br/>\n",
    "Tidak ada perbedaan signifikan penggunaan kartu kredit sebelum kampanye dengan 1 bulan setelah kampanye."
   ]
  },
  {
   "cell_type": "markdown",
   "id": "ef58134a",
   "metadata": {},
   "source": [
    "## No 2b"
   ]
  },
  {
   "cell_type": "markdown",
   "id": "49f494c0",
   "metadata": {},
   "source": [
    "H0 : Tidak ada perbedaan penggunaan kartu kredit sebelum kampanye dengan 2 bulan setelah kampanye <br/>\n",
    "H1 : Ada perbedaan penggunaan kartu kredit sebelum kampanye dengan 2 bulan setelah kampanye"
   ]
  },
  {
   "cell_type": "code",
   "execution_count": 10,
   "id": "0655df97",
   "metadata": {},
   "outputs": [],
   "source": [
    "t_value, p_value = ttest_rel(df['pre_usage'], df['post_usage_2ndmonth'])"
   ]
  },
  {
   "cell_type": "code",
   "execution_count": 11,
   "id": "14f8cd8b",
   "metadata": {},
   "outputs": [
    {
     "data": {
      "text/plain": [
       "4.2957338280128356e-16"
      ]
     },
     "execution_count": 11,
     "metadata": {},
     "output_type": "execute_result"
    }
   ],
   "source": [
    "p_value"
   ]
  },
  {
   "cell_type": "code",
   "execution_count": 12,
   "id": "514f5ad2",
   "metadata": {},
   "outputs": [
    {
     "name": "stdout",
     "output_type": "stream",
     "text": [
      "H0 ditolak\n"
     ]
    }
   ],
   "source": [
    "if p_value < 0.05:\n",
    "    print('H0 ditolak')\n",
    "else:\n",
    "    print('H0 diterima')"
   ]
  },
  {
   "cell_type": "markdown",
   "id": "1b4cca1c",
   "metadata": {},
   "source": [
    "Kesimpulan: <br/>\n",
    "Ada perbedaan signifikan penggunaan kartu kredit sebelum kampanye dengan 1 bulan setelah kampanye."
   ]
  },
  {
   "cell_type": "markdown",
   "id": "8ef519d8",
   "metadata": {},
   "source": [
    "## No 3a"
   ]
  },
  {
   "cell_type": "code",
   "execution_count": 13,
   "id": "b3ef7607",
   "metadata": {},
   "outputs": [],
   "source": [
    "df_lk = df[df['sex'] == 0]\n",
    "df_pr = df[df['sex'] == 1]"
   ]
  },
  {
   "cell_type": "markdown",
   "id": "c5cf562a",
   "metadata": {},
   "source": [
    "H0 : Tidak ada perbedaan penggunaan kartu kredit kelompok laki-laki dengan perempuan 1 bulan setelah kampanye <br/>\n",
    "H1 : Ada perbedaan penggunaan kartu kredit kelompok laki-laki dengan perempuan 1 bulan setelah kampanye"
   ]
  },
  {
   "cell_type": "code",
   "execution_count": 14,
   "id": "044698a5",
   "metadata": {},
   "outputs": [],
   "source": [
    "t_value, p_value = ttest_ind(df_lk['Post_usage_1month'], df_pr['Post_usage_1month'])"
   ]
  },
  {
   "cell_type": "code",
   "execution_count": 15,
   "id": "b0b0a4f0",
   "metadata": {},
   "outputs": [
    {
     "data": {
      "text/plain": [
       "0.00024625461203549315"
      ]
     },
     "execution_count": 15,
     "metadata": {},
     "output_type": "execute_result"
    }
   ],
   "source": [
    "p_value"
   ]
  },
  {
   "cell_type": "code",
   "execution_count": 16,
   "id": "09ceda72",
   "metadata": {},
   "outputs": [
    {
     "name": "stdout",
     "output_type": "stream",
     "text": [
      "H0 ditolak\n"
     ]
    }
   ],
   "source": [
    "if p_value < 0.05:\n",
    "    print('H0 ditolak')\n",
    "else:\n",
    "    print('H0 diterima')"
   ]
  },
  {
   "cell_type": "markdown",
   "id": "da55464d",
   "metadata": {},
   "source": [
    "Kesimpulan: <br/>\n",
    "Ada perbedaan penggunaan kartu kredit kelompok laki-laki dengan perempuan 1 bulan setelah kampanye"
   ]
  },
  {
   "cell_type": "markdown",
   "id": "41c7854a",
   "metadata": {},
   "source": [
    "## No 3b"
   ]
  },
  {
   "cell_type": "markdown",
   "id": "39daa91b",
   "metadata": {},
   "source": [
    "H0 : Tidak ada perbedaan penggunaan kartu kredit kelompok laki-laki dengan perempuan 2 bulan setelah kampanye <br/>\n",
    "H1 : Ada perbedaan penggunaan kartu kredit kelompok laki-laki dengan perempuan 2 bulan setelah kampanye"
   ]
  },
  {
   "cell_type": "code",
   "execution_count": 17,
   "id": "1a3f7865",
   "metadata": {},
   "outputs": [],
   "source": [
    "t_value, p_value = ttest_ind(df_lk['post_usage_2ndmonth'], df_pr['post_usage_2ndmonth'])"
   ]
  },
  {
   "cell_type": "code",
   "execution_count": 18,
   "id": "6bebd62f",
   "metadata": {},
   "outputs": [
    {
     "data": {
      "text/plain": [
       "0.0002462546120354815"
      ]
     },
     "execution_count": 18,
     "metadata": {},
     "output_type": "execute_result"
    }
   ],
   "source": [
    "p_value"
   ]
  },
  {
   "cell_type": "code",
   "execution_count": 19,
   "id": "7a9b8737",
   "metadata": {},
   "outputs": [
    {
     "name": "stdout",
     "output_type": "stream",
     "text": [
      "H0 ditolak\n"
     ]
    }
   ],
   "source": [
    "if p_value < 0.05:\n",
    "    print('H0 ditolak')\n",
    "else:\n",
    "    print('H0 diterima')"
   ]
  },
  {
   "cell_type": "markdown",
   "id": "7cb19797",
   "metadata": {},
   "source": [
    "Kesimpulan: <br/>\n",
    "Ada perbedaan penggunaan kartu kredit kelompok laki-laki dengan perempuan 2 bulan setelah kampanye"
   ]
  }
 ],
 "metadata": {
  "kernelspec": {
   "display_name": "Python 3 (ipykernel)",
   "language": "python",
   "name": "python3"
  },
  "language_info": {
   "codemirror_mode": {
    "name": "ipython",
    "version": 3
   },
   "file_extension": ".py",
   "mimetype": "text/x-python",
   "name": "python",
   "nbconvert_exporter": "python",
   "pygments_lexer": "ipython3",
   "version": "3.9.13"
  }
 },
 "nbformat": 4,
 "nbformat_minor": 5
}
